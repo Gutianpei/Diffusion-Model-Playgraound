{
 "cells": [
  {
   "cell_type": "code",
   "execution_count": 3,
   "metadata": {},
   "outputs": [],
   "source": [
    "import os,sys\n",
    "os.makedirs(\"checkpoint\", exist_ok=True)\n",
    "os.makedirs(\"precomputed\", exist_ok=True)\n",
    "os.makedirs(\"pretrained\", exist_ok=True)\n",
    "os.makedirs(\"runs\", exist_ok=True)\n",
    "os.makedirs(\"runs/classifier-eval\", exist_ok=True)\n",
    "sys.path.append(\"../\")\n",
    "\n",
    "from datasets.data_utils import get_dataset, get_dataloader\n",
    "from ourddpm import OurDDPM\n",
    "from utils.image_utils import fuse, normalize\n",
    "from main import dict2namespace\n",
    "import argparse\n",
    "import yaml\n",
    "import warnings\n",
    "warnings.filterwarnings(action='ignore')\n",
    "from PIL import Image\n",
    "import cv2\n",
    "from tqdm import tqdm\n",
    "\n",
    "\n",
    "import torch\n",
    "import pickle\n",
    "import torchvision.utils as tvu\n",
    "import torch.nn.functional as F\n",
    "import numpy as np\n",
    "import matplotlib.pyplot as plt\n",
    "\n",
    "# # parser = argparse.ArgumentParser(description='.')\n",
    "# # parser.add_argument('img_index', metavar='N', type=int, nargs=1,\n",
    "# #                     help='index of the image')\n",
    "# # args = parser.parse_args()\n",
    "\n",
    "def get_scheduler(s):\n",
    "    scheduler = set()\n",
    "    periods = s.split(\",\")\n",
    "    for p in periods:\n",
    "        l = int(p.split(\"-\")[0])\n",
    "        r = int(p.split(\"-\")[1])\n",
    "        for i in range(l, r):\n",
    "            scheduler.add(i)\n",
    "    return scheduler\n",
    "\n",
    "\n",
    "model_path = os.path.join(\"pretrained/celeba_hq.ckpt\")\n",
    "\n",
    "exp_dir = f\"runs/classifier_test\"\n",
    "os.makedirs(exp_dir, exist_ok=True)\n",
    "\n",
    "# img_index = args.img_index[0]\n",
    "n_step =  999#@param {type: \"integer\"}\n",
    "sampling = \"ddpm\" #@param [\"ddpm\", \"ddim\"]\n",
    "fixed_xt = True #@param {type: \"boolean\"}\n",
    "add_var = True #@param {type: \"boolean\"}\n",
    "add_var_on = \"0-999\" #@param {type: \"string\"}\n",
    "vis_gen =  True #@param {type: \"boolean\"}\n",
    "guidance_on  = \"800-999\"\n",
    "\n",
    "var_scheduler = get_scheduler(add_var_on)\n",
    "guidance_scheduler = get_scheduler(guidance_on)\n",
    "\n",
    "args_dic = {\n",
    "    'config': 'celeba.yml', \n",
    "    'n_step': int(n_step), \n",
    "    'sample_type': sampling, \n",
    "    'eta': 0.0,\n",
    "    'bs_train': 1, \n",
    "    'model_path': model_path, \n",
    "    'hybrid_noise': 0, \n",
    "    'align_face': 0,\n",
    "    'image_folder': exp_dir,\n",
    "    'add_var': bool(add_var),\n",
    "    'add_var_on': add_var_on,\n",
    "    'guidance_scheduler': guidance_scheduler\n",
    "    }\n",
    "args = dict2namespace(args_dic)\n",
    "\n",
    "with open(os.path.join('../configs', args.config), 'r') as f:\n",
    "    config_dic = yaml.safe_load(f)\n",
    "config = dict2namespace(config_dic)\n",
    "\n",
    "device = torch.device(\"cuda\")\n",
    "\n",
    "config.device = device\n",
    "runner = OurDDPM(args, config, device=device)\n",
    "runner.load_classifier(\"../checkpoint/attr_classifier_4_attrs_150.pt\", feature_num=4)\n",
    "\n",
    "data_root = \"/home/summertony717/data/celeba_hq\"\n",
    "train_dataset, val_dataset, test_dataset = get_dataset(\"CelebA_HQ\", data_root, runner.config)#, label = \"../DMP_data/list_attr_celeba.csv.zip\")\n",
    "\n",
    "def test_loader(dataset, i):\n",
    "    img, _ = np.array(dataset[i])\n",
    "    ts = torch.zeros(1).cuda()\n",
    "    img = torch.tensor(img).reshape(1, *img.shape)\n",
    "    return img, ts\n"
   ]
  },
  {
   "cell_type": "code",
   "execution_count": null,
   "metadata": {},
   "outputs": [],
   "source": [
    "# res = []\n",
    "# with torch.no_grad():\n",
    "#     for i in tqdm(range(len(test_dataset))):\n",
    "#         img, ts = test_loader(test_dataset, i)\n",
    "#         output = runner.classifier(img.cuda(), timesteps=ts)\n",
    "#         logits = F.sigmoid(output)\n",
    "#         res.append((i, logits[0]))\n",
    "\n",
    "\n",
    "# with open(\"temp.pkl\", \"wb\") as f:\n",
    "#     pickle.dump(res, f)"
   ]
  },
  {
   "cell_type": "code",
   "execution_count": 5,
   "metadata": {},
   "outputs": [],
   "source": [
    "res = []\n",
    "with open(\"../temp.pkl\", \"rb\") as f:\n",
    "    res = pickle.load(f)"
   ]
  },
  {
   "cell_type": "code",
   "execution_count": 14,
   "metadata": {},
   "outputs": [
    {
     "data": {
      "image/png": "[encoded data removed]",
      "text/plain": [
       "<Figure size 432x288 with 1 Axes>"
      ]
     },
     "metadata": {
      "needs_background": "light"
     },
     "output_type": "display_data"
    }
   ],
   "source": [
    "for i in [3]:\n",
    "# for i in range(4):\n",
    "    val_id = [(b[i].item(), a) for a, b in res]\n",
    "    val_id.sort()\n",
    "\n",
    "    vals = [e[0] for e in val_id]\n",
    "    plt.figure()\n",
    "    plt.title(\"glasses\")\n",
    "    plt.hist(vals)"
   ]
  }
 ],
 "metadata": {
  "interpreter": {
   "hash": "1892d8d4b511927aed5306f7fd835e8c1b51a049a06d2628fb7ee2dd284077c9"
  },
  "kernelspec": {
   "display_name": "Python 3.9.12 ('python3.9')",
   "language": "python",
   "name": "python3"
  },
  "language_info": {
   "codemirror_mode": {
    "name": "ipython",
    "version": 3
   },
   "file_extension": ".py",
   "mimetype": "text/x-python",
   "name": "python",
   "nbconvert_exporter": "python",
   "pygments_lexer": "ipython3",
   "version": "3.9.12"
  },
  "orig_nbformat": 4
 },
 "nbformat": 4,
 "nbformat_minor": 2
}
