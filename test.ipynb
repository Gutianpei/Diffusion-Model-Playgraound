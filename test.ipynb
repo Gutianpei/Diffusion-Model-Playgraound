{
 "cells": [
  {
   "cell_type": "code",
   "execution_count": 1,
   "metadata": {},
   "outputs": [
    {
     "name": "stderr",
     "output_type": "stream",
     "text": [
      "/home/summertony717/anaconda3/envs/ddpm-playground/lib/python3.10/site-packages/tqdm/auto.py:22: TqdmWarning: IProgress not found. Please update jupyter and ipywidgets. See https://ipywidgets.readthedocs.io/en/stable/user_install.html\n",
      "  from .autonotebook import tqdm as notebook_tqdm\n"
     ]
    }
   ],
   "source": [
    "import os\n",
    "\n",
    "from ourddpm import OurDDPM\n",
    "from main import dict2namespace\n",
    "import argparse\n",
    "import yaml\n",
    "from PIL import Image\n",
    "import warnings\n",
    "\n",
    "import torch\n",
    "import pdb\n",
    "import cv2\n",
    "import glob\n",
    "import pickle\n",
    "\n",
    "\n",
    "%load_ext autoreload\n",
    "%autoreload 2\n",
    "\n",
    "warnings.filterwarnings(action='ignore')\n",
    "\n",
    "device = 'cuda'\n",
    "\n",
    "args_dic = {\n",
    "    'config': 'celeba.yml',\n",
    "    'bs_train': 4,\n",
    "    'device': device\n",
    "    }\n",
    "args = dict2namespace(args_dic)\n",
    "\n",
    "with open(os.path.join('configs', args.config), 'r') as f:\n",
    "    config_dic = yaml.safe_load(f)\n",
    "config = dict2namespace(config_dic)\n",
    "\n",
    "runner = OurDDPM(args, config, device=device)"
   ]
  },
  {
   "cell_type": "code",
   "execution_count": 2,
   "metadata": {},
   "outputs": [
    {
     "name": "stdout",
     "output_type": "stream",
     "text": [
      "Classifier created\n",
      "Epoch 0\n"
     ]
    },
    {
     "name": "stderr",
     "output_type": "stream",
     "text": [
      "Epoch 0, Loss: 0.44:  12%|█▋             | 3359/29000 [07:54<1:00:19,  7.08it/s]\n"
     ]
    },
    {
     "ename": "KeyboardInterrupt",
     "evalue": "",
     "output_type": "error",
     "traceback": [
      "\u001b[0;31m---------------------------------------------------------------------------\u001b[0m",
      "\u001b[0;31mKeyboardInterrupt\u001b[0m                         Traceback (most recent call last)",
      "\u001b[1;32m/home/summertony717/Diffusion-Model-Playground/test.ipynb Cell 2'\u001b[0m in \u001b[0;36m<cell line: 2>\u001b[0;34m()\u001b[0m\n\u001b[1;32m      <a href='vscode-notebook-cell://ssh-remote%2Bbolei-gpu03.cs.ucla.edu/home/summertony717/Diffusion-Model-Playground/test.ipynb#ch0000001vscode-remote?line=0'>1</a>\u001b[0m \u001b[39m# torch.cuda.device_count()\u001b[39;00m\n\u001b[0;32m----> <a href='vscode-notebook-cell://ssh-remote%2Bbolei-gpu03.cs.ucla.edu/home/summertony717/Diffusion-Model-Playground/test.ipynb#ch0000001vscode-remote?line=1'>2</a>\u001b[0m runner\u001b[39m.\u001b[39;49mtrain_classifier()\n",
      "File \u001b[0;32m~/Diffusion-Model-Playground/ourddpm.py:141\u001b[0m, in \u001b[0;36mOurDDPM.train_classifier\u001b[0;34m(self)\u001b[0m\n\u001b[1;32m    <a href='file:///home/summertony717/Diffusion-Model-Playground/ourddpm.py?line=138'>139</a>\u001b[0m cnt \u001b[39m+\u001b[39m\u001b[39m=\u001b[39m N\n\u001b[1;32m    <a href='file:///home/summertony717/Diffusion-Model-Playground/ourddpm.py?line=139'>140</a>\u001b[0m \u001b[39m#pdb.set_trace()\u001b[39;00m\n\u001b[0;32m--> <a href='file:///home/summertony717/Diffusion-Model-Playground/ourddpm.py?line=140'>141</a>\u001b[0m label \u001b[39m=\u001b[39m (attrs\u001b[39m.\u001b[39;49mfloat()\u001b[39m.\u001b[39;49mto(\u001b[39m\"\u001b[39;49m\u001b[39mcuda\u001b[39;49m\u001b[39m\"\u001b[39;49m) \u001b[39m+\u001b[39m \u001b[39m1\u001b[39m) \u001b[39m/\u001b[39m \u001b[39m2\u001b[39m     \u001b[39m# normalize to [0, 1]\u001b[39;00m\n\u001b[1;32m    <a href='file:///home/summertony717/Diffusion-Model-Playground/ourddpm.py?line=141'>142</a>\u001b[0m x0 \u001b[39m=\u001b[39m img\u001b[39m.\u001b[39mto(\u001b[39m\"\u001b[39m\u001b[39mcuda\u001b[39m\u001b[39m\"\u001b[39m)\n\u001b[1;32m    <a href='file:///home/summertony717/Diffusion-Model-Playground/ourddpm.py?line=142'>143</a>\u001b[0m \u001b[39m# e = torch.randn_like(x0)\u001b[39;00m\n\u001b[1;32m    <a href='file:///home/summertony717/Diffusion-Model-Playground/ourddpm.py?line=143'>144</a>\u001b[0m \u001b[39m# a = (1 - self.betas).cumprod(dim=0)\u001b[39;00m\n\u001b[1;32m    <a href='file:///home/summertony717/Diffusion-Model-Playground/ourddpm.py?line=144'>145</a>\u001b[0m \u001b[39m# t0 = random.randint(1, 100)\u001b[39;00m\n\u001b[0;32m   (...)\u001b[0m\n\u001b[1;32m    <a href='file:///home/summertony717/Diffusion-Model-Playground/ourddpm.py?line=147'>148</a>\u001b[0m \n\u001b[1;32m    <a href='file:///home/summertony717/Diffusion-Model-Playground/ourddpm.py?line=148'>149</a>\u001b[0m \u001b[39m# testing the code without the randomness first\u001b[39;00m\n",
      "\u001b[0;31mKeyboardInterrupt\u001b[0m: "
     ]
    }
   ],
   "source": [
    "# torch.cuda.device_count()\n",
    "runner.train_classifier()"
   ]
  },
  {
   "cell_type": "code",
   "execution_count": 8,
   "metadata": {},
   "outputs": [
    {
     "data": {
      "text/plain": [
       "tensor([1, 2])"
      ]
     },
     "execution_count": 8,
     "metadata": {},
     "output_type": "execute_result"
    }
   ],
   "source": [
    "from torch.nn.functional import sigmoid\n",
    "import torch\n",
    "\n",
    "a = torch.tensor([[1, 2],[2, 3]])\n",
    "b = torch.tensor([[1,3],[2, 3]])\n",
    "(a == b).sum(dim=1)\n",
    "\n",
    "0 + torch.tensor([1, 2])"
   ]
  }
 ],
 "metadata": {
  "interpreter": {
   "hash": "71b8598232e9da840c9f4d0c9af37b9b2d2abaa12e34b6ca4de8dbe97a84b5eb"
  },
  "kernelspec": {
   "display_name": "Python 3.10.4 ('ddpm-playground')",
   "language": "python",
   "name": "python3"
  },
  "language_info": {
   "codemirror_mode": {
    "name": "ipython",
    "version": 3
   },
   "file_extension": ".py",
   "mimetype": "text/x-python",
   "name": "python",
   "nbconvert_exporter": "python",
   "pygments_lexer": "ipython3",
   "version": "3.10.4"
  },
  "orig_nbformat": 4,
  "vscode": {
   "interpreter": {
    "hash": "71b8598232e9da840c9f4d0c9af37b9b2d2abaa12e34b6ca4de8dbe97a84b5eb"
   }
  }
 },
 "nbformat": 4,
 "nbformat_minor": 2
}
